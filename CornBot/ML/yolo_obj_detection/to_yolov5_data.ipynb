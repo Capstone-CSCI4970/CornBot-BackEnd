{
  "nbformat": 4,
  "nbformat_minor": 0,
  "metadata": {
    "colab": {
      "name": "to_yolov5_data.ipynb",
      "provenance": [],
      "collapsed_sections": []
    },
    "kernelspec": {
      "name": "python3",
      "display_name": "Python 3"
    },
    "language_info": {
      "name": "python"
    }
  },
  "cells": [
    {
      "cell_type": "code",
      "metadata": {
        "colab": {
          "base_uri": "https://localhost:8080/"
        },
        "id": "hhniHmSG4Koy",
        "outputId": "5d659547-0300-4d12-d0af-bf6e18a76bac"
      },
      "source": [
        "from google.colab import drive\n",
        "drive.mount('/content/drive')"
      ],
      "execution_count": null,
      "outputs": [
        {
          "output_type": "stream",
          "name": "stdout",
          "text": [
            "Drive already mounted at /content/drive; to attempt to forcibly remount, call drive.mount(\"/content/drive\", force_remount=True).\n"
          ]
        }
      ]
    },
    {
      "cell_type": "code",
      "metadata": {
        "id": "Iba6eFhp4P89"
      },
      "source": [
        "import pandas as pd\n",
        "import numpy as np\n",
        "import os\n",
        "import shutil\n",
        "from PIL import Image\n",
        "\n",
        "from pathlib import Path\n",
        "import random\n",
        "from tqdm import tqdm"
      ],
      "execution_count": null,
      "outputs": []
    },
    {
      "cell_type": "code",
      "metadata": {
        "id": "aztgqjAzT8Ht"
      },
      "source": [
        "# shutil.copy('/content/DSC00028.txt','/content/drive/MyDrive')"
      ],
      "execution_count": null,
      "outputs": []
    },
    {
      "cell_type": "code",
      "metadata": {
        "id": "8yYLu36cftPo"
      },
      "source": [
        "source_images = '/content/drive/MyDrive/capstone/workings/Project_LocalMachine/data/data/images_handheld/'\n",
        "source_annotations = '/content/drive/MyDrive/capstone/workings/Project_LocalMachine/data/annotations_handheld.csv'\n",
        "destination_images_label = '/content/drive/MyDrive/yolov5_capstone/data/labels/'\n",
        "destination_images = '/content/drive/MyDrive/yolov5_capstone/data/images/'"
      ],
      "execution_count": null,
      "outputs": []
    },
    {
      "cell_type": "code",
      "metadata": {
        "colab": {
          "base_uri": "https://localhost:8080/",
          "height": 204
        },
        "id": "SWgWIkDWftNN",
        "outputId": "13cdfab9-81e8-4722-b51c-1fda7fb34077"
      },
      "source": [
        "df = pd.read_csv(source_annotations)\n",
        "df = df[df.columns[:5]]\n",
        "df.head(5)"
      ],
      "execution_count": null,
      "outputs": [
        {
          "output_type": "execute_result",
          "data": {
            "text/html": [
              "<div>\n",
              "<style scoped>\n",
              "    .dataframe tbody tr th:only-of-type {\n",
              "        vertical-align: middle;\n",
              "    }\n",
              "\n",
              "    .dataframe tbody tr th {\n",
              "        vertical-align: top;\n",
              "    }\n",
              "\n",
              "    .dataframe thead th {\n",
              "        text-align: right;\n",
              "    }\n",
              "</style>\n",
              "<table border=\"1\" class=\"dataframe\">\n",
              "  <thead>\n",
              "    <tr style=\"text-align: right;\">\n",
              "      <th></th>\n",
              "      <th>image</th>\n",
              "      <th>x1</th>\n",
              "      <th>y1</th>\n",
              "      <th>x2</th>\n",
              "      <th>y2</th>\n",
              "    </tr>\n",
              "  </thead>\n",
              "  <tbody>\n",
              "    <tr>\n",
              "      <th>0</th>\n",
              "      <td>DSC00025.JPG</td>\n",
              "      <td>1864</td>\n",
              "      <td>2064</td>\n",
              "      <td>2864</td>\n",
              "      <td>1648</td>\n",
              "    </tr>\n",
              "    <tr>\n",
              "      <th>1</th>\n",
              "      <td>DSC00026.JPG</td>\n",
              "      <td>2872</td>\n",
              "      <td>1416</td>\n",
              "      <td>3152</td>\n",
              "      <td>2016</td>\n",
              "    </tr>\n",
              "    <tr>\n",
              "      <th>2</th>\n",
              "      <td>DSC00027.JPG</td>\n",
              "      <td>0</td>\n",
              "      <td>0</td>\n",
              "      <td>0</td>\n",
              "      <td>0</td>\n",
              "    </tr>\n",
              "    <tr>\n",
              "      <th>3</th>\n",
              "      <td>DSC00028.JPG</td>\n",
              "      <td>3248</td>\n",
              "      <td>1540</td>\n",
              "      <td>3572</td>\n",
              "      <td>2048</td>\n",
              "    </tr>\n",
              "    <tr>\n",
              "      <th>4</th>\n",
              "      <td>DSC00028.JPG</td>\n",
              "      <td>3444</td>\n",
              "      <td>1916</td>\n",
              "      <td>3852</td>\n",
              "      <td>2116</td>\n",
              "    </tr>\n",
              "  </tbody>\n",
              "</table>\n",
              "</div>"
            ],
            "text/plain": [
              "          image    x1    y1    x2    y2\n",
              "0  DSC00025.JPG  1864  2064  2864  1648\n",
              "1  DSC00026.JPG  2872  1416  3152  2016\n",
              "2  DSC00027.JPG     0     0     0     0\n",
              "3  DSC00028.JPG  3248  1540  3572  2048\n",
              "4  DSC00028.JPG  3444  1916  3852  2116"
            ]
          },
          "metadata": {},
          "execution_count": 68
        }
      ]
    },
    {
      "cell_type": "code",
      "metadata": {
        "id": "mHgKf55moFcw"
      },
      "source": [
        "image_name_list = next(os.walk(source_images))[2]"
      ],
      "execution_count": null,
      "outputs": []
    },
    {
      "cell_type": "code",
      "metadata": {
        "id": "FweLDKsQXcKF"
      },
      "source": [
        "img_list = []"
      ],
      "execution_count": null,
      "outputs": []
    },
    {
      "cell_type": "code",
      "metadata": {
        "colab": {
          "base_uri": "https://localhost:8080/"
        },
        "id": "4t0fY7VMXbdx",
        "outputId": "0dca13bd-2157-438b-d8d4-66e60bbd4291"
      },
      "source": [
        "for filename in tqdm(image_name_list):\n",
        "  #print(Image.open(source_images+filename).size[0])\n",
        "  if(Image.open(source_images+filename).size[0] == 6000):\n",
        "    img_list.append(filename)"
      ],
      "execution_count": null,
      "outputs": [
        {
          "output_type": "stream",
          "name": "stderr",
          "text": [
            "100%|██████████| 1787/1787 [07:31<00:00,  3.95it/s]\n"
          ]
        }
      ]
    },
    {
      "cell_type": "markdown",
      "metadata": {
        "id": "G2cp2R13XmzO"
      },
      "source": [
        "Images with shape (6000,4000)"
      ]
    },
    {
      "cell_type": "code",
      "metadata": {
        "colab": {
          "base_uri": "https://localhost:8080/"
        },
        "id": "OnlW77-eXbbh",
        "outputId": "c81bfe59-b480-43ac-9a34-191b70131db0"
      },
      "source": [
        "len(img_list)"
      ],
      "execution_count": null,
      "outputs": [
        {
          "output_type": "execute_result",
          "data": {
            "text/plain": [
              "1618"
            ]
          },
          "metadata": {},
          "execution_count": 74
        }
      ]
    },
    {
      "cell_type": "code",
      "metadata": {
        "id": "JkfJiRm9XbW5"
      },
      "source": [
        ""
      ],
      "execution_count": null,
      "outputs": []
    },
    {
      "cell_type": "code",
      "metadata": {
        "id": "Pk6InYeXrUUT"
      },
      "source": [
        "def converter(annotation):#,image_shape):\n",
        "  img_width,img_height = 6000,4000\n",
        "  #img_width,img_height = img_shape[1],img_shape[0]\n",
        "  x1,y1,x2,y2 = annotation\n",
        "  if(x1+y1+x2+y2 == 0):\n",
        "      return 0\n",
        "  label = 0 \n",
        "  label_width = abs(x2-x1)\n",
        "  label_height = abs(y2-y1)\n",
        "  x_center = min(x1,x2) + label_width/2\n",
        "  y_center = img_height -(min(y1,y2) + label_height/2)\n",
        "  yolo_annotation = [label,x_center/img_width,y_center/img_height\n",
        "                      ,label_width/img_width,label_height/img_height]\n",
        "  return yolo_annotation"
      ],
      "execution_count": null,
      "outputs": []
    },
    {
      "cell_type": "code",
      "metadata": {
        "id": "oaVouP79rK8o"
      },
      "source": [
        "def convert_to_yolo(annotation,image_name):\n",
        "  data_to_write = []\n",
        "  for annot in annotation:\n",
        "    conv_annot = converter(annot)\n",
        "    data_to_write.append(conv_annot)\n",
        "  \n",
        "  filename = destination_images_label+image_name.split('.')[0]+\".txt\"\n",
        "  if(data_to_write[0] == 0):\n",
        "    np.savetxt(filename,np.array([]))\n",
        "  else:\n",
        "    np.savetxt(filename,np.array(data_to_write),delimiter=',',fmt=' '.join(['%i'] + ['%1.6f']*4))"
      ],
      "execution_count": null,
      "outputs": []
    },
    {
      "cell_type": "code",
      "metadata": {
        "colab": {
          "base_uri": "https://localhost:8080/"
        },
        "id": "AH1TX9QMftGg",
        "outputId": "95a0023c-b7a2-4c0a-a437-b2b841e7e8c4"
      },
      "source": [
        "#for filename in tqdm(image_name_list):\n",
        "for filename in tqdm(img_list):\n",
        "  #print(Image.open(source_images+filename).size[0])\n",
        "  # if(Image.open(source_images+filename).size[0] == 6000):\n",
        "  #   count+=1\n",
        "  df_by_imagename = df.loc[df['image'] == filename]\n",
        "  df_by_imagename = df_by_imagename.drop(columns='image')\n",
        "  df_by_imagename = df_by_imagename.to_numpy()\n",
        "  convert_to_yolo(df_by_imagename,filename)\n",
        "  \n",
        "  "
      ],
      "execution_count": null,
      "outputs": [
        {
          "output_type": "stream",
          "name": "stderr",
          "text": [
            "100%|██████████| 1618/1618 [00:24<00:00, 66.12it/s]\n"
          ]
        }
      ]
    },
    {
      "cell_type": "code",
      "metadata": {
        "id": "t5gcJyyOLzfx"
      },
      "source": [
        "# img_list = []"
      ],
      "execution_count": null,
      "outputs": []
    },
    {
      "cell_type": "code",
      "metadata": {
        "id": "49Vh6PxH8lMW"
      },
      "source": [
        "\n",
        "# for filename in image_name_list:\n",
        "#   #print(Image.open(source_images+filename).size[0])\n",
        "#   if(Image.open(source_images+filename).size[0] == 6000):\n",
        "#     img_list.append(filename)"
      ],
      "execution_count": null,
      "outputs": []
    },
    {
      "cell_type": "code",
      "metadata": {
        "colab": {
          "base_uri": "https://localhost:8080/"
        },
        "id": "LwmOloyOL-s3",
        "outputId": "d6821241-642a-41aa-8ff3-8e9dfad901cb"
      },
      "source": [
        "len(img_list)"
      ],
      "execution_count": null,
      "outputs": [
        {
          "output_type": "execute_result",
          "data": {
            "text/plain": [
              "1618"
            ]
          },
          "metadata": {},
          "execution_count": 154
        }
      ]
    },
    {
      "cell_type": "code",
      "metadata": {
        "colab": {
          "base_uri": "https://localhost:8080/"
        },
        "id": "U4RbIGAGMA8y",
        "outputId": "bbd61d19-6f6b-4638-de99-2e52493d64ee"
      },
      "source": [
        "from tqdm import tqdm\n",
        "for img in tqdm(img_list):\n",
        "  shutil.copy(source_images+img,destination_images)"
      ],
      "execution_count": null,
      "outputs": [
        {
          "output_type": "stream",
          "name": "stderr",
          "text": [
            "100%|██████████| 1618/1618 [18:46<00:00,  1.44it/s]\n"
          ]
        }
      ]
    },
    {
      "cell_type": "markdown",
      "metadata": {
        "id": "8DC7k5gMP5Lq"
      },
      "source": [
        "[Yolov5 Dataset utils for autosplit](https://github.com/ultralytics/yolov5/blob/0cc7c587870f31f0fc175a74048ceca616870aea/utils/datasets.py#L818-L840)"
      ]
    },
    {
      "cell_type": "code",
      "metadata": {
        "id": "Qrfx-xhlE8jV"
      },
      "source": [
        "IMG_FORMATS = ['bmp', 'JPG', 'jpeg', 'png', 'tif', 'tiff', 'dng', 'webp', 'mpo']"
      ],
      "execution_count": null,
      "outputs": []
    },
    {
      "cell_type": "code",
      "metadata": {
        "colab": {
          "base_uri": "https://localhost:8080/"
        },
        "id": "tGAmzxW6Gqm-",
        "outputId": "988ec1c4-b555-417d-a0fa-21347b3a49e5"
      },
      "source": [
        "!python --version"
      ],
      "execution_count": null,
      "outputs": [
        {
          "output_type": "stream",
          "name": "stdout",
          "text": [
            "Python 3.7.12\n"
          ]
        }
      ]
    },
    {
      "cell_type": "code",
      "metadata": {
        "id": "5e6jgLEqGumf"
      },
      "source": [
        ""
      ],
      "execution_count": null,
      "outputs": []
    },
    {
      "cell_type": "code",
      "metadata": {
        "id": "TtItyL-uNRr-"
      },
      "source": [
        "\n",
        "def autosplit(path='../datasets/coco128/images', weights=(0.9, 0.1, 0.0), annotated_only=False):\n",
        "    \"\"\" Autosplit a dataset into train/val/test splits and save path/autosplit_*.txt files\n",
        "    Usage: from utils.datasets import *; autosplit()\n",
        "    Arguments\n",
        "        path:            Path to images directory\n",
        "        weights:         Train, val, test weights (list, tuple)\n",
        "        annotated_only:  Only use images with an annotated txt file\n",
        "    \"\"\"\n",
        "    path = Path(path)  # images dir\n",
        "    files = sum([list(path.rglob(f\"*.{img_ext}\")) for img_ext in IMG_FORMATS], [])  # image files only\n",
        "    n = len(files)  # number of files\n",
        "    print(n)\n",
        "    random.seed(0)  # for reproducibility\n",
        "    indices = random.choices([0, 1, 2], weights=weights, k=n)  # assign each image to a split\n",
        "\n",
        "    txt = ['autosplit_train.txt', 'autosplit_val.txt', 'autosplit_test.txt']  # 3 txt files\n",
        "\n",
        "   # [(path.parent / x).unlink()  for x in txt]  # remove existing\n",
        "\n",
        "    print(f'Autosplitting images from {path}' + ', using *.txt labeled images only' * annotated_only)\n",
        "    for i, img in tqdm(zip(indices, files), total=n):\n",
        "        if not annotated_only or Path(img2label_paths([str(img)])[0]).exists():  # check label\n",
        "            with open(path.parent / txt[i], 'a') as f:\n",
        "                f.write('./' + img.relative_to(path.parent).as_posix() + '\\n')  # add image to txt file"
      ],
      "execution_count": null,
      "outputs": []
    },
    {
      "cell_type": "code",
      "metadata": {
        "colab": {
          "base_uri": "https://localhost:8080/"
        },
        "id": "FEhY5ZTRFI-V",
        "outputId": "734a7256-cf05-48da-8560-3f3a09e01b35"
      },
      "source": [
        "autosplit('/content/drive/MyDrive/yolov5_capstone/data/images',weights=(0.85,0.1,0.05))"
      ],
      "execution_count": null,
      "outputs": [
        {
          "output_type": "stream",
          "name": "stdout",
          "text": [
            "1618\n",
            "Autosplitting images from /content/drive/MyDrive/yolov5_capstone/data/images\n"
          ]
        },
        {
          "output_type": "stream",
          "name": "stderr",
          "text": [
            "100%|██████████| 1618/1618 [00:10<00:00, 149.49it/s]\n"
          ]
        }
      ]
    },
    {
      "cell_type": "code",
      "metadata": {
        "id": "cbEhWOB2acp9"
      },
      "source": [
        ""
      ],
      "execution_count": null,
      "outputs": []
    },
    {
      "cell_type": "code",
      "metadata": {
        "id": "BIaD1v5Tacna"
      },
      "source": [
        ""
      ],
      "execution_count": null,
      "outputs": []
    },
    {
      "cell_type": "code",
      "metadata": {
        "id": "xVCvoa0Wack3"
      },
      "source": [
        ""
      ],
      "execution_count": null,
      "outputs": []
    },
    {
      "cell_type": "code",
      "metadata": {
        "id": "UjX6oMgoaciU"
      },
      "source": [
        ""
      ],
      "execution_count": null,
      "outputs": []
    },
    {
      "cell_type": "code",
      "metadata": {
        "id": "Ob_J2IBwaces"
      },
      "source": [
        ""
      ],
      "execution_count": null,
      "outputs": []
    },
    {
      "cell_type": "code",
      "metadata": {
        "id": "SBYdZfXjWvFl"
      },
      "source": [
        ""
      ],
      "execution_count": null,
      "outputs": []
    },
    {
      "cell_type": "code",
      "metadata": {
        "id": "-NtAmvDxWvDj"
      },
      "source": [
        ""
      ],
      "execution_count": null,
      "outputs": []
    },
    {
      "cell_type": "code",
      "metadata": {
        "id": "6YUlB0ldWvB5"
      },
      "source": [
        ""
      ],
      "execution_count": null,
      "outputs": []
    },
    {
      "cell_type": "code",
      "metadata": {
        "id": "YSYUzcvqWu-o"
      },
      "source": [
        ""
      ],
      "execution_count": null,
      "outputs": []
    },
    {
      "cell_type": "code",
      "metadata": {
        "id": "l40sG1_bWu73"
      },
      "source": [
        ""
      ],
      "execution_count": null,
      "outputs": []
    },
    {
      "cell_type": "code",
      "metadata": {
        "id": "25GyUcWVWYka"
      },
      "source": [
        ""
      ],
      "execution_count": null,
      "outputs": []
    }
  ]
}